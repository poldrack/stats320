{
 "cells": [
  {
   "attachments": {},
   "cell_type": "markdown",
   "metadata": {},
   "source": [
    "# Lab 0: PyTorch Primer\n",
    "\n",
    "We'll use Python and [PyTorch](https://pytorch.org/) for the labs in this course. This lab is to help you get up to speed. It will introduce:\n",
    "- **Tensors**: PyTorch's equivalent of NumPy arrays, but with more bells and whistles for running on GPUs and supporting automatic differentiation.\n",
    "- **Broadcasting and Fancy Indexing**: If you're coming from Matlab or NumPy, you probably know that you can avoid costly for-loops by broadcasting computation over dimensions of an array (here, tensor) and using fancy indexing tricks. \n",
    "- **Distributions**: PyTorch has an excellent library of distributions for sampling, evaluating log probabilities, and much more. \n",
    "\n",
    "We'll introduce these concepts in the context of the Poisson mixture model from class (c.f. [Probabilistic Modeling](../lectures/02_probabilistic_modeling.ipynb))."
   ]
  },
  {
   "cell_type": "code",
   "execution_count": 67,
   "metadata": {},
   "outputs": [],
   "source": [
    "import torch\n",
    "import torch.distributions as dist\n",
    "import matplotlib.pyplot as plt"
   ]
  },
  {
   "attachments": {},
   "cell_type": "markdown",
   "metadata": {},
   "source": [
    "## 1. Constructing Tensors\n",
    "\n",
    "Tensors are PyTorch's equivalent of NumPy arrays. The PyTorch documentation already has a [great tutorial](https://pytorch.org/tutorials/beginner/basics/tensorqs_tutorial.html) on tensors. Rather than recreate the wheel, please start by reading that.\n",
    "\n",
    "Once you've read through that, try using torch functions like `arange`, `reshape`, etc. to construct the following tensors."
   ]
  },
  {
   "attachments": {},
   "cell_type": "markdown",
   "metadata": {},
   "source": [
    "### Problem 1.1\n",
    "\n",
    "Construct the following tensor:\n",
    "\n",
    "```\n",
    "tensor([[0, 1, 2],\n",
    "        [3, 4, 5],\n",
    "        [6, 7, 8]])\n",
    "```\n",
    "\n",
    "_Note: For this problems and the ones below, don't literally construct the tensor from the specified list. Use torch functions._\n",
    "\n",
    "---"
   ]
  },
  {
   "cell_type": "code",
   "execution_count": 3,
   "metadata": {},
   "outputs": [
    {
     "data": {
      "text/plain": [
       "tensor([[0, 1, 2],\n",
       "        [3, 4, 5],\n",
       "        [6, 7, 8]])"
      ]
     },
     "execution_count": 3,
     "metadata": {},
     "output_type": "execute_result"
    }
   ],
   "source": [
    "# YOUR CODE HERE"
   ]
  },
  {
   "attachments": {},
   "cell_type": "markdown",
   "metadata": {},
   "source": [
    "### Problem 1.2\n",
    "\n",
    "Construct the following tensor:\n",
    "\n",
    "```\n",
    "tensor([[0, 3, 6],\n",
    "        [1, 4, 7],\n",
    "        [2, 5, 8]])\n",
    "```\n",
    "\n",
    "---"
   ]
  },
  {
   "cell_type": "code",
   "execution_count": 4,
   "metadata": {},
   "outputs": [
    {
     "data": {
      "text/plain": [
       "tensor([[0, 3, 6],\n",
       "        [1, 4, 7],\n",
       "        [2, 5, 8]])"
      ]
     },
     "execution_count": 4,
     "metadata": {},
     "output_type": "execute_result"
    }
   ],
   "source": [
    "# YOUR CODE HERE"
   ]
  },
  {
   "attachments": {},
   "cell_type": "markdown",
   "metadata": {},
   "source": [
    "### Problem 1.3\n",
    "\n",
    "Construct the following tensor:\n",
    "\n",
    "```\n",
    "tensor([0, 1, 2, 3, 4, 0, 1, 2, 3, 4, 0, 1, 2, 3, 4])\n",
    "```\n",
    "\n",
    "_Note: Here the sequence is repeated 3 times. Does your code support arbitrary numbers of repeats?_\n",
    "\n",
    "---"
   ]
  },
  {
   "cell_type": "code",
   "execution_count": 30,
   "metadata": {},
   "outputs": [
    {
     "data": {
      "text/plain": [
       "tensor([0, 1, 2, 3, 4, 0, 1, 2, 3, 4, 0, 1, 2, 3, 4])"
      ]
     },
     "execution_count": 30,
     "metadata": {},
     "output_type": "execute_result"
    }
   ],
   "source": [
    "# YOUR CODE HERE"
   ]
  },
  {
   "attachments": {},
   "cell_type": "markdown",
   "metadata": {},
   "source": [
    "### Problem 1.4\n",
    "\n",
    "Construct the following tensor:\n",
    "\n",
    "```\n",
    "tensor([[0, 1, 2, 3, 4],\n",
    "        [0, 1, 2, 3, 4],\n",
    "        [0, 1, 2, 3, 4]])\n",
    "```\n",
    "\n",
    "---"
   ]
  },
  {
   "cell_type": "code",
   "execution_count": 31,
   "metadata": {},
   "outputs": [
    {
     "data": {
      "text/plain": [
       "tensor([[0, 1, 2, 3, 4],\n",
       "        [0, 1, 2, 3, 4],\n",
       "        [0, 1, 2, 3, 4]])"
      ]
     },
     "execution_count": 31,
     "metadata": {},
     "output_type": "execute_result"
    }
   ],
   "source": [
    "# YOUR CODE HERE"
   ]
  },
  {
   "attachments": {},
   "cell_type": "markdown",
   "metadata": {},
   "source": [
    "### Problem 1.5\n",
    "\n",
    "Construct the following tensor:\n",
    "\n",
    "```\n",
    "tensor([[ 1., -2.,  0.,  0.],\n",
    "        [-2.,  1., -2.,  0.],\n",
    "        [ 0., -2.,  1., -2.],\n",
    "        [ 0.,  0., -2.,  1.]])\n",
    "```\n",
    "\n",
    "---"
   ]
  },
  {
   "cell_type": "code",
   "execution_count": 32,
   "metadata": {},
   "outputs": [
    {
     "data": {
      "text/plain": [
       "tensor([[ 1., -2.,  0.,  0.],\n",
       "        [-2.,  1., -2.,  0.],\n",
       "        [ 0., -2.,  1., -2.],\n",
       "        [ 0.,  0., -2.,  1.]])"
      ]
     },
     "execution_count": 32,
     "metadata": {},
     "output_type": "execute_result"
    }
   ],
   "source": [
    "# YOUR CODE HERE"
   ]
  },
  {
   "attachments": {},
   "cell_type": "markdown",
   "metadata": {},
   "source": [
    "### Problem 1.6\n",
    "\n",
    "Construct the following tensor:\n",
    "\n",
    "```\n",
    "tensor([[[[0, 1, 2]]]])\n",
    "```\n",
    "\n",
    "---"
   ]
  },
  {
   "cell_type": "code",
   "execution_count": 35,
   "metadata": {},
   "outputs": [
    {
     "data": {
      "text/plain": [
       "tensor([[[[0, 1, 2]]]])"
      ]
     },
     "execution_count": 35,
     "metadata": {},
     "output_type": "execute_result"
    }
   ],
   "source": [
    "# YOUR CODE HERE"
   ]
  },
  {
   "attachments": {},
   "cell_type": "markdown",
   "metadata": {},
   "source": [
    "## 2. Broadcasting and Fancy Indexing\n",
    "\n",
    "Your life will be much easier and your code will be much faster once you get the hang of broadcasting and indexing. Start by reading the  [PyTorch documentation](https://pytorch.org/docs/stable/notes/broadcasting.html)."
   ]
  },
  {
   "attachments": {},
   "cell_type": "markdown",
   "metadata": {},
   "source": [
    "### Problem 2.1\n",
    "\n",
    "Construct a tensor `X` where `X[i,j] = i + j` by broadcasting a sum of two 1-dimensional tensors.\n",
    "\n",
    "For example, broadcast a sum to construct the following tensor, \n",
    "\n",
    "```\n",
    "tensor([[0, 1, 2],\n",
    "        [1, 2, 3],\n",
    "        [2, 3, 4],\n",
    "        [3, 4, 5]])\n",
    "```        \n",
    "\n",
    "---"
   ]
  },
  {
   "cell_type": "code",
   "execution_count": 37,
   "metadata": {},
   "outputs": [
    {
     "data": {
      "text/plain": [
       "tensor([[0, 1, 2],\n",
       "        [1, 2, 3],\n",
       "        [2, 3, 4],\n",
       "        [3, 4, 5]])"
      ]
     },
     "execution_count": 37,
     "metadata": {},
     "output_type": "execute_result"
    }
   ],
   "source": [
    "# YOUR CODE HERE"
   ]
  },
  {
   "attachments": {},
   "cell_type": "markdown",
   "metadata": {},
   "source": [
    "### Problem 2.2\n",
    "\n",
    "Compute a distance matrix `D` where `D[i,j]` is the Euclidean distance between `X[i]` and `X[j]`, with\n",
    "\n",
    "```\n",
    "X = torch.arange(10, dtype=float).reshape(5, 2)\n",
    "```\n",
    "\n",
    "Your answer should be,\n",
    "\n",
    "```\n",
    "tensor([[ 0.0000,  2.8284,  5.6569,  8.4853, 11.3137],\n",
    "        [ 2.8284,  0.0000,  2.8284,  5.6569,  8.4853],\n",
    "        [ 5.6569,  2.8284,  0.0000,  2.8284,  5.6569],\n",
    "        [ 8.4853,  5.6569,  2.8284,  0.0000,  2.8284],\n",
    "        [11.3137,  8.4853,  5.6569,  2.8284,  0.0000]])\n",
    "```        \n",
    "\n",
    "---"
   ]
  },
  {
   "cell_type": "code",
   "execution_count": 43,
   "metadata": {},
   "outputs": [
    {
     "data": {
      "text/plain": [
       "tensor([[ 0.0000,  2.8284,  5.6569,  8.4853, 11.3137],\n",
       "        [ 2.8284,  0.0000,  2.8284,  5.6569,  8.4853],\n",
       "        [ 5.6569,  2.8284,  0.0000,  2.8284,  5.6569],\n",
       "        [ 8.4853,  5.6569,  2.8284,  0.0000,  2.8284],\n",
       "        [11.3137,  8.4853,  5.6569,  2.8284,  0.0000]], dtype=torch.float64)"
      ]
     },
     "execution_count": 43,
     "metadata": {},
     "output_type": "execute_result"
    }
   ],
   "source": [
    "X = torch.arange(10, dtype=float).reshape(5, 2)\n",
    "# YOUR CODE HERE"
   ]
  },
  {
   "attachments": {},
   "cell_type": "markdown",
   "metadata": {},
   "source": [
    "### Problem 2.3 \n",
    "\n",
    "Extract the submatrix of rows `[2,3]` and columns `[0,1,4]` of the tensor,\n",
    "```\n",
    "A = torch.arange(25).reshape(5, 5)\n",
    "```\n",
    "\n",
    "Your answer should be,\n",
    "```\n",
    "tensor([[10, 11, 14],\n",
    "        [15, 16, 19]])\n",
    "```\n",
    "\n",
    "---"
   ]
  },
  {
   "cell_type": "code",
   "execution_count": 48,
   "metadata": {},
   "outputs": [
    {
     "data": {
      "text/plain": [
       "tensor([[10, 11, 14],\n",
       "        [15, 16, 19]])"
      ]
     },
     "execution_count": 48,
     "metadata": {},
     "output_type": "execute_result"
    }
   ],
   "source": [
    "A = torch.arange(25).reshape(5, 5)\n",
    "# YOUR CODE HERE"
   ]
  },
  {
   "attachments": {},
   "cell_type": "markdown",
   "metadata": {},
   "source": [
    "### Problem 2.4\n",
    "\n",
    "Create a binary mask matrix `M` of the same shape as `A` where `M[i,j]` is True if and only if `A[i,j]` is divisible by 7. Let\n",
    "\n",
    "```\n",
    "A = torch.arange(25).reshape(5, 5)\n",
    "```\n",
    "\n",
    "Your answer should be \n",
    "\n",
    "```\n",
    "tensor([[ True, False, False, False, False],\n",
    "        [False, False,  True, False, False],\n",
    "        [False, False, False, False,  True],\n",
    "        [False, False, False, False, False],\n",
    "        [False,  True, False, False, False]])\n",
    "```\n",
    "\n",
    "---"
   ]
  },
  {
   "cell_type": "code",
   "execution_count": 49,
   "metadata": {},
   "outputs": [
    {
     "data": {
      "text/plain": [
       "tensor([[ True, False, False, False, False],\n",
       "        [False, False,  True, False, False],\n",
       "        [False, False, False, False,  True],\n",
       "        [False, False, False, False, False],\n",
       "        [False,  True, False, False, False]])"
      ]
     },
     "execution_count": 49,
     "metadata": {},
     "output_type": "execute_result"
    }
   ],
   "source": [
    "A = torch.arange(25).reshape(5, 5)\n",
    "# YOUR CODE HERE"
   ]
  },
  {
   "attachments": {},
   "cell_type": "markdown",
   "metadata": {},
   "source": [
    "### Problem 2.5\n",
    "\n",
    "Add one to the entries in `A` that are divisible by 7. After updating in place, `A` should be,\n",
    "\n",
    "```\n",
    "tensor([[ 1,  1,  2,  3,  4],\n",
    "        [ 5,  6,  8,  8,  9],\n",
    "        [10, 11, 12, 13, 15],\n",
    "        [15, 16, 17, 18, 19],\n",
    "        [20, 22, 22, 23, 24]])\n",
    "```\n",
    "\n",
    "---"
   ]
  },
  {
   "cell_type": "code",
   "execution_count": 50,
   "metadata": {},
   "outputs": [],
   "source": [
    "# YOUR CODE HERE"
   ]
  },
  {
   "attachments": {},
   "cell_type": "markdown",
   "metadata": {},
   "source": [
    "## 3. Distributions\n",
    "\n",
    "PyTorch has an excellent library of distributions in `torch.distributions`. Read the docs [here](https://pytorch.org/docs/stable/distributions.html).\n",
    "\n",
    "We will use these distribution objects to construct and fit a Poisson mixture model."
   ]
  },
  {
   "attachments": {},
   "cell_type": "markdown",
   "metadata": {},
   "source": [
    "### Problem 3.1\n",
    "\n",
    "Draw 50 samples from a Poisson distribution with rate 10.\n",
    "\n",
    "---"
   ]
  },
  {
   "cell_type": "code",
   "execution_count": 54,
   "metadata": {},
   "outputs": [
    {
     "data": {
      "text/plain": [
       "tensor([ 9.,  9.,  6.,  9.,  9., 13.,  8., 10., 19., 11.,  5., 12.,  7.,  8.,\n",
       "        11., 13., 15., 12., 11., 14., 12.,  9., 12., 10., 10.,  7.,  9.,  8.,\n",
       "         7., 11., 15., 13.,  8.,  7.,  3., 17.,  6., 16.,  9., 10., 13.,  9.,\n",
       "        13., 17., 15.,  6., 11.,  9.,  7., 14.])"
      ]
     },
     "execution_count": 54,
     "metadata": {},
     "output_type": "execute_result"
    }
   ],
   "source": [
    "# YOUR CODE HERE"
   ]
  },
  {
   "attachments": {},
   "cell_type": "markdown",
   "metadata": {},
   "source": [
    "### Problem 3.2\n",
    "\n",
    "One of the awesome thing about PyTorch distributions is that they support broadcasting too. \n",
    "\n",
    "Construct a matrix `P` where `P[i,j]` equals $\\mathrm{Pois}(x=j; \\lambda=i)$ for $i=0,\\ldots,4$ and $j=0,\\ldots,4$.\n",
    "\n",
    "Your answer should be,\n",
    "```\n",
    "tensor([[1.0000, 0.0000, 0.0000, 0.0000, 0.0000],\n",
    "        [0.3679, 0.3679, 0.1839, 0.0613, 0.0153],\n",
    "        [0.1353, 0.2707, 0.2707, 0.1804, 0.0902],\n",
    "        [0.0498, 0.1494, 0.2240, 0.2240, 0.1680],\n",
    "        [0.0183, 0.0733, 0.1465, 0.1954, 0.1954]])\n",
    "```\n",
    "\n",
    "---"
   ]
  },
  {
   "cell_type": "code",
   "execution_count": 59,
   "metadata": {},
   "outputs": [
    {
     "data": {
      "text/plain": [
       "tensor([[1.0000, 0.0000, 0.0000, 0.0000, 0.0000],\n",
       "        [0.3679, 0.3679, 0.1839, 0.0613, 0.0153],\n",
       "        [0.1353, 0.2707, 0.2707, 0.1804, 0.0902],\n",
       "        [0.0498, 0.1494, 0.2240, 0.2240, 0.1680],\n",
       "        [0.0183, 0.0733, 0.1465, 0.1954, 0.1954]])"
      ]
     },
     "execution_count": 59,
     "metadata": {},
     "output_type": "execute_result"
    }
   ],
   "source": [
    "# YOUR CODE HERE"
   ]
  },
  {
   "attachments": {},
   "cell_type": "markdown",
   "metadata": {},
   "source": [
    "### Problem 3.3\n",
    "\n",
    "Evaluate the log probability of the points `[1.5, 3., 4.2]` under a gamma distribution with shape (aka concentration) 2.0 and inverse scale (aka rate) 1.5.\n",
    "\n",
    "Your answer should be,\n",
    "\n",
    "```\n",
    "tensor([-1.0336, -2.5905, -4.0540])\n",
    "```\n",
    "\n",
    "---"
   ]
  },
  {
   "cell_type": "code",
   "execution_count": 63,
   "metadata": {},
   "outputs": [
    {
     "data": {
      "text/plain": [
       "tensor([-1.0336, -2.5905, -4.0540])"
      ]
     },
     "execution_count": 63,
     "metadata": {},
     "output_type": "execute_result"
    }
   ],
   "source": [
    "# YOUR CODE HERE"
   ]
  },
  {
   "attachments": {},
   "cell_type": "markdown",
   "metadata": {},
   "source": [
    "### Problem 3.4\n",
    "\n",
    "Draw 1000 samples from a Poisson mixture model,\n",
    "\n",
    "$$\n",
    "\\begin{align*}\n",
    "p(x) &= \\frac{1}{2} \\mathrm{Pois}(10.0) + \\frac{1}{2} \\mathrm{Pois}(2.0)\n",
    "\\end{align*}\n",
    "$$\n",
    "\n",
    "Use `matplotlib.pyplot.hist` to plot a normalized histogram of the samples.\n",
    "\n",
    "---"
   ]
  },
  {
   "cell_type": "code",
   "execution_count": 81,
   "metadata": {},
   "outputs": [
    {
     "data": {
      "text/plain": [
       "[<matplotlib.lines.Line2D at 0x7f899932b490>]"
      ]
     },
     "execution_count": 81,
     "metadata": {},
     "output_type": "execute_result"
    },
    {
     "data": {
      "image/png": "[encoded data removed]",
      "text/plain": [
       "<Figure size 432x288 with 1 Axes>"
      ]
     },
     "metadata": {
      "needs_background": "light"
     },
     "output_type": "display_data"
    }
   ],
   "source": [
    "# YOUR CODE HERE\n",
    "# data = ..."
   ]
  },
  {
   "attachments": {},
   "cell_type": "markdown",
   "metadata": {},
   "source": [
    "## MAP estimation"
   ]
  },
  {
   "attachments": {},
   "cell_type": "markdown",
   "metadata": {},
   "source": [
    "### Problem 4.1\n",
    "\n",
    "Let `xs` be the samples from above (you should have `xs.shape = (1000,)`). Assume there are $K = 2$ clusters and the prior cluster probabilities $[\\tfrac{1}{2}, \\tfrac{1}{2}]$ are known. Complete the code below to perform MAP estimation.\n",
    "\n",
    "---\n"
   ]
  },
  {
   "cell_type": "code",
   "execution_count": 88,
   "metadata": {},
   "outputs": [
    {
     "name": "stdout",
     "output_type": "stream",
     "text": [
      "estimated rates: tensor([10.6110,  2.0041])\n"
     ]
    },
    {
     "data": {
      "image/png": "[encoded data removed]",
      "text/plain": [
       "<Figure size 432x288 with 1 Axes>"
      ]
     },
     "metadata": {
      "needs_background": "light"
     },
     "output_type": "display_data"
    }
   ],
   "source": [
    "def update_assignments(data, rates, probs):\n",
    "    \"\"\"Update the cluster assignments ($z$) given the data, rates, \n",
    "    and cluster probabilities.\n",
    "\n",
    "    Args:\n",
    "        data: shape `(N,)` tensor of counts\n",
    "        rates: shape `(K,)` tensor of nonnegative rates for each cluster.\n",
    "        probs: shape `(K,)` tensor of cluster probabilities\n",
    "        \n",
    "    Returns:\n",
    "        assignments: shape `(N,)` tensor of integer cluster assignments\n",
    "    \"\"\"\n",
    "    ##\n",
    "    # YOUR CODE HERE\n",
    "    ##\n",
    "    return assignments\n",
    "\n",
    "def update_rates(data, assignments, shape=1.0, inv_scale=1.0):\n",
    "    \"\"\"Update the rates for each cluster under a gamma prior.\n",
    "\n",
    "    Args:\n",
    "        data: shape `(N,)` tensor of counts\n",
    "        assignments: shape `(N,)` tensor of integer cluster assignments\n",
    "        shape: shape (aka concentration) of gamma prior. Defaults to 1.0.\n",
    "        inv_scale: inverse scale (aka rate) of gamma prior. Defaults to 1.0.\n",
    "        \n",
    "    Returns:\n",
    "        rates: shape `(K,)` tensor of updated rates for each cluster\n",
    "    \"\"\"\n",
    "    ##\n",
    "    # YOUR CODE HERE\n",
    "    ##\n",
    "    return rates\n",
    "    \n",
    "\n",
    "def log_joint(data, assignments, rates, probs, shape=1.0, inv_scale=1.0):\n",
    "    \"\"\"_summary_\n",
    "\n",
    "    Args:\n",
    "        data: shape `(N,)` tensor of counts\n",
    "        assignments: shape `(N,)` tensor of integer cluster assignments\n",
    "        rates: shape `(K,)` tensor of updated rates for each cluster\n",
    "        probs: shape `(K,)` tensor of cluster probabilities\n",
    "        shape: shape (aka concentration) of gamma prior. Defaults to 1.0.\n",
    "        inv_scale: inverse scale (aka rate) of gamma prior. Defaults to 1.0.\n",
    "        \n",
    "    Returns:\n",
    "        lp: scalar log joint probability under the mixture model\n",
    "    \"\"\"\n",
    "    ###\n",
    "    # YOUR CODE HERE\n",
    "    ##\n",
    "    return lp\n",
    "    \n",
    "# Run coordinate ascent for some number of iterations, starting\n",
    "# with random cluster assignments\n",
    "probs = torch.ones(2) / 2.0\n",
    "assignments = torch.randint(0, 2, data.shape)\n",
    "rates = 10 * torch.rand(2)\n",
    "\n",
    "lps = []\n",
    "for i in range(20):\n",
    "    lps.append(log_joint(data, assignments, rates, probs))\n",
    "    rates = update_rates(data, assignments)\n",
    "    assignments = update_assignments(data, rates, probs)\n",
    "    \n",
    "plt.plot(lps)\n",
    "plt.xlabel(\"iteration\")\n",
    "plt.ylabel(\"log joint probability\")\n",
    "\n",
    "print(\"estimated rates:\", rates)"
   ]
  },
  {
   "attachments": {},
   "cell_type": "markdown",
   "metadata": {},
   "source": [
    "### Problem 4.2 (Bonus)\n",
    "\n",
    "Now consider a more general model in which \n",
    "\n",
    "$$\n",
    "z_n \\sim \\mathrm{Cat}(\\boldsymbol{\\pi})\n",
    "$$\n",
    "\n",
    "where the prior cluster probabilities $\\boldsymbol{\\pi}$ are unknown. (Above, we assumed they were known to be $\\boldsymbol{\\pi} = [\\tfrac{1}{2}, \\tfrac{1}{2}]$.) Derive and implement a coordinate ascent algorithm for MAP estimation of $\\mathbf{z}_{\\mathsf{MAP}}$, $\\boldsymbol{\\lambda}_{\\mathsf{MAP}}$, and $\\boldsymbol{\\pi}_{\\mathsf{MAP}}$.\n"
   ]
  }
 ],
 "metadata": {
  "kernelspec": {
   "display_name": "Python 3",
   "language": "python",
   "name": "python3"
  },
  "language_info": {
   "codemirror_mode": {
    "name": "ipython",
    "version": 3
   },
   "file_extension": ".py",
   "mimetype": "text/x-python",
   "name": "python",
   "nbconvert_exporter": "python",
   "pygments_lexer": "ipython3",
   "version": "3.7.11 (default, Jul 27 2021, 07:03:16) \n[Clang 10.0.0 ]"
  },
  "orig_nbformat": 4,
  "vscode": {
   "interpreter": {
    "hash": "5b28c5bd4ee93d765ebe901023d5522822fb8ad083dac3187c5545022f913719"
   }
  }
 },
 "nbformat": 4,
 "nbformat_minor": 2
}
